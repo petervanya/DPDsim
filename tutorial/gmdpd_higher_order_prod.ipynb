{
 "cells": [
  {
   "cell_type": "markdown",
   "metadata": {},
   "source": [
    "# Varying wrapping functions\n",
    "\n",
    "Date created: 29/03/20\n",
    "\n",
    "Exploring pure systems defined by wrapping functions with exponents $N_w = 3, 4, 5.$"
   ]
  },
  {
   "cell_type": "code",
   "execution_count": 1,
   "metadata": {},
   "outputs": [],
   "source": [
    "import matplotlib.pyplot as plt\n",
    "%matplotlib inline"
   ]
  },
  {
   "cell_type": "code",
   "execution_count": 2,
   "metadata": {},
   "outputs": [],
   "source": [
    "# dpdsim needs to be on the Python path\n",
    "from dpdsim import GMDPDSim\n",
    "from dpdsim.utils import compute_profile, compute_rdf"
   ]
  },
  {
   "cell_type": "markdown",
   "metadata": {},
   "source": [
    "## $N_w$ = 3"
   ]
  },
  {
   "cell_type": "code",
   "execution_count": 3,
   "metadata": {},
   "outputs": [],
   "source": [
    "N = 500\n",
    "Nstep = 3000\n",
    "L = [10, 5, 5]\n",
    "\n",
    "B = 2.0\n",
    "Nw = 3\n",
    "\n",
    "sim_3 = GMDPDSim(implementation=\"fortran\", N=N, L=L, steps=Nstep, thermo=100)"
   ]
  },
  {
   "cell_type": "code",
   "execution_count": 4,
   "metadata": {},
   "outputs": [],
   "source": [
    "sim_3.create_particle_inputs(B=B)\n",
    "sim_3.ip_N_wrap[1] = 3"
   ]
  },
  {
   "cell_type": "code",
   "execution_count": 5,
   "metadata": {},
   "outputs": [
    {
     "data": {
      "text/plain": [
       "(array([[  0.,   0.],\n",
       "        [  0., -40.]]), 2.0, array([0., 3.]))"
      ]
     },
     "execution_count": 5,
     "metadata": {},
     "output_type": "execute_result"
    }
   ],
   "source": [
    "sim_3.ip_A, sim_3.ip_B, sim_3.ip_N_wrap"
   ]
  },
  {
   "cell_type": "code",
   "execution_count": 6,
   "metadata": {},
   "outputs": [],
   "source": [
    "sim_3.compute_local_density()"
   ]
  },
  {
   "cell_type": "code",
   "execution_count": 7,
   "metadata": {},
   "outputs": [
    {
     "data": {
      "text/plain": [
       "array([[0. , 0. , 0. , 0. , 0. , 0. , 0. , 0. , 0. , 0. ],\n",
       "       [3.3, 1. , 5.5, 1.4, 1.7, 1.9, 0.2, 1.8, 0.2, 2.2]])"
      ]
     },
     "execution_count": 7,
     "metadata": {},
     "output_type": "execute_result"
    }
   ],
   "source": [
    "sim_3.rho2[:10].T.round(1)"
   ]
  },
  {
   "cell_type": "code",
   "execution_count": 8,
   "metadata": {},
   "outputs": [
    {
     "data": {
      "text/plain": [
       "0.98"
      ]
     },
     "execution_count": 8,
     "metadata": {},
     "output_type": "execute_result"
    }
   ],
   "source": [
    "sim_3.rho2.mean().round(2)"
   ]
  },
  {
   "cell_type": "code",
   "execution_count": 9,
   "metadata": {},
   "outputs": [
    {
     "data": {
      "text/plain": [
       "6967.192818994874"
      ]
     },
     "execution_count": 9,
     "metadata": {},
     "output_type": "execute_result"
    }
   ],
   "source": [
    "sim_3.compute_pe()"
   ]
  },
  {
   "cell_type": "code",
   "execution_count": 10,
   "metadata": {},
   "outputs": [
    {
     "name": "stdout",
     "output_type": "stream",
     "text": [
      "step time temp ke pe p pxx pyy pzz\n",
      "100 3 3.29645 2.467e+03 -2.963e+03 2.732e+00 3.214e+00 3.470e+00 1.512e+00\n",
      "200 6 1.82746 1.368e+03 -3.909e+03 -7.953e-02 5.274e-01 -2.096e-01 -5.564e-01\n",
      "300 9 1.36456 1.021e+03 -4.548e+03 2.189e-01 1.102e+00 -3.450e-01 -1.006e-01\n",
      "400 13 1.25836 9.419e+02 -4.861e+03 -8.053e-01 3.529e-01 -2.055e+00 -7.138e-01\n",
      "500 16 1.15035 8.610e+02 -5.057e+03 -9.738e-01 -1.004e-01 -2.294e+00 -5.273e-01\n",
      "600 19 1.15905 8.675e+02 -5.246e+03 -2.070e-02 2.949e-01 1.812e-01 -5.382e-01\n",
      "700 22 1.10415 8.265e+02 -5.322e+03 -4.101e-02 1.413e+00 -1.459e+00 -7.684e-02\n",
      "800 26 1.10522 8.273e+02 -5.391e+03 2.072e+00 3.548e+00 1.180e+00 1.487e+00\n",
      "900 29 1.01945 7.631e+02 -5.317e+03 4.104e-01 1.395e+00 -3.680e-01 2.043e-01\n",
      "1000 32 1.05834 7.922e+02 -5.373e+03 8.327e-01 8.046e-01 8.540e-01 8.397e-01\n",
      "1100 35 1.02249 7.653e+02 -5.393e+03 -9.700e-02 1.081e+00 -1.240e+00 -1.325e-01\n",
      "1200 39 1.00814 7.546e+02 -5.405e+03 -1.337e-02 1.228e+00 -4.066e-01 -8.616e-01\n",
      "1300 42 1.06775 7.992e+02 -5.397e+03 -1.251e+00 -1.120e+00 -1.279e+00 -1.352e+00\n",
      "1400 45 1.07544 8.050e+02 -5.396e+03 1.021e-01 5.213e-01 2.677e-01 -4.828e-01\n",
      "1500 48 1.07119 8.018e+02 -5.428e+03 9.577e-01 1.966e+00 3.942e-01 5.133e-01\n",
      "1600 51 1.00825 7.547e+02 -5.348e+03 -9.043e-01 -2.794e-02 -1.298e+00 -1.387e+00\n",
      "1700 55 1.11527 8.348e+02 -5.388e+03 -8.828e-02 7.196e-01 5.851e-01 -1.569e+00\n",
      "1800 58 1.08240 8.102e+02 -5.327e+03 -5.237e-01 -4.098e-01 -1.609e+00 4.480e-01\n",
      "1900 61 1.05668 7.909e+02 -5.304e+03 -1.156e+00 2.156e-01 -1.117e+00 -2.566e+00\n",
      "2000 64 1.09621 8.205e+02 -5.415e+03 -9.289e-01 -5.649e-02 -2.473e+00 -2.573e-01\n",
      "2100 68 1.01894 7.627e+02 -5.356e+03 -1.757e+00 -2.301e-01 -2.708e+00 -2.332e+00\n",
      "2200 71 1.02099 7.642e+02 -5.356e+03 -2.443e+00 -2.124e+00 -3.048e+00 -2.156e+00\n",
      "2300 74 1.05437 7.892e+02 -5.421e+03 -1.318e+00 -7.422e-01 -1.778e+00 -1.434e+00\n",
      "2400 77 1.08040 8.087e+02 -5.382e+03 -1.462e+00 -5.996e-01 -2.259e+00 -1.526e+00\n",
      "2500 81 1.04024 7.786e+02 -5.357e+03 -1.462e+00 -1.104e+00 -2.130e+00 -1.153e+00\n",
      "2600 84 1.05793 7.919e+02 -5.365e+03 -2.117e+00 -1.026e+00 -3.362e+00 -1.964e+00\n",
      "2700 87 1.04292 7.806e+02 -5.338e+03 -5.621e-01 -9.876e-01 -2.934e-01 -4.053e-01\n",
      "2800 90 1.02673 7.685e+02 -5.388e+03 -2.144e+00 -8.726e-01 -3.513e+00 -2.046e+00\n",
      "2900 94 1.02587 7.679e+02 -5.370e+03 -3.285e-01 1.428e-01 -1.264e+00 1.357e-01\n",
      "3000 97 1.07279 8.030e+02 -5.340e+03 2.692e-02 3.806e-01 -3.930e-02 -2.606e-01\n",
      "Done. Simulation time: 97.43 s.\n"
     ]
    }
   ],
   "source": [
    "sim_3.run()"
   ]
  },
  {
   "cell_type": "code",
   "execution_count": 11,
   "metadata": {},
   "outputs": [
    {
     "data": {
      "text/plain": [
       "0.7"
      ]
     },
     "execution_count": 11,
     "metadata": {},
     "output_type": "execute_result"
    }
   ],
   "source": [
    "sim_3.rho2.mean().round(2)"
   ]
  },
  {
   "cell_type": "code",
   "execution_count": 12,
   "metadata": {},
   "outputs": [
    {
     "name": "stdout",
     "output_type": "stream",
     "text": [
      "Time: 2.48 s\n"
     ]
    },
    {
     "data": {
      "image/png": "[encoded data removed]",
      "text/plain": [
       "<Figure size 864x216 with 2 Axes>"
      ]
     },
     "metadata": {
      "needs_background": "light"
     },
     "output_type": "display_data"
    }
   ],
   "source": [
    "r_pr, pr_3 = compute_profile(sim_3, 0, 1, N_bins=50)\n",
    "r_rdf, rdf_3 = compute_rdf(sim_3, 1, N_bins=50)\n",
    "\n",
    "fig, ax = plt.subplots(1, 2, figsize=(12, 3))\n",
    "\n",
    "ax[0].plot(r_pr, pr_3)\n",
    "ax[0].grid(ls=\"--\")\n",
    "ax[0].set_xlim([0, L[0]])\n",
    "ax[0].set_ylim([0, 8])\n",
    "\n",
    "ax[1].plot(r_rdf, rdf_3)\n",
    "ax[1].grid(ls=\"--\")\n",
    "ax[1].set_xlim(left=0)\n",
    "ax[1].set_ylim(bottom=0);"
   ]
  },
  {
   "cell_type": "markdown",
   "metadata": {},
   "source": [
    "### Increasing $B$ for solidification\n",
    "\n",
    "Set a high value of $B$ and a low value of $A$."
   ]
  },
  {
   "cell_type": "code",
   "execution_count": 13,
   "metadata": {},
   "outputs": [],
   "source": [
    "N = 500\n",
    "Nstep = 5000\n",
    "L = [10, 5, 5]\n",
    "dt = 0.008\n",
    "\n",
    "B = 15.0\n",
    "Nw = 3\n",
    "\n",
    "sim_3 = GMDPDSim(implementation=\"fortran\", N=N, L=L, dt=dt, steps=Nstep, thermo=100)\n",
    "\n",
    "sim_3.create_particle_inputs(B=B)\n",
    "sim_3.ip_N_wrap[1] = Nw\n",
    "sim_3.Rd[-1, -1] = 0.60\n",
    "sim_3.ip_A[-1, -1] = -60.0"
   ]
  },
  {
   "cell_type": "code",
   "execution_count": 14,
   "metadata": {},
   "outputs": [
    {
     "name": "stdout",
     "output_type": "stream",
     "text": [
      "Minimising... Initial PE: 1.911e+05\n",
      "step time pe\n",
      "10 4 -4.233e+03\n",
      "Done. Time: 4.41 s\n"
     ]
    }
   ],
   "source": [
    "sim_3.minimise(Nit=10, w=1e-5)"
   ]
  },
  {
   "cell_type": "code",
   "execution_count": 15,
   "metadata": {
    "scrolled": false
   },
   "outputs": [
    {
     "name": "stdout",
     "output_type": "stream",
     "text": [
      "step time temp ke pe p pxx pyy pzz\n",
      "100 3 2.77524 2.077e+03 -8.859e+03 -5.719e+00 -7.458e+00 -7.236e+00 -2.463e+00\n",
      "200 6 2.33755 1.750e+03 -1.144e+04 -8.321e-01 -9.151e-01 -1.714e+00 1.329e-01\n",
      "300 9 1.86299 1.394e+03 -1.278e+04 4.214e-01 2.602e+00 1.741e+00 -3.079e+00\n",
      "400 12 1.65052 1.235e+03 -1.347e+04 1.199e+00 2.527e+00 7.738e-01 2.967e-01\n",
      "500 15 1.52609 1.142e+03 -1.402e+04 -6.602e-01 4.050e-01 -6.103e-01 -1.775e+00\n",
      "600 18 1.29133 9.666e+02 -1.436e+04 -1.449e+00 -2.460e-03 -2.143e+00 -2.202e+00\n",
      "700 22 1.27425 9.538e+02 -1.453e+04 -4.573e+00 -3.564e+00 -6.165e+00 -3.989e+00\n",
      "800 25 1.27546 9.547e+02 -1.477e+04 -1.920e+00 -1.060e+00 -1.231e+00 -3.469e+00\n",
      "900 28 1.30165 9.743e+02 -1.489e+04 -2.579e+00 -1.908e+00 -2.640e+00 -3.189e+00\n",
      "1000 31 1.19616 8.953e+02 -1.492e+04 -2.367e+00 3.055e+00 -4.390e+00 -5.765e+00\n",
      "1100 35 1.17949 8.829e+02 -1.500e+04 -6.038e+00 -2.913e+00 -6.586e+00 -8.613e+00\n",
      "1200 38 1.24242 9.300e+02 -1.510e+04 -3.332e-01 1.551e+00 -3.277e+00 7.265e-01\n",
      "1300 41 1.22383 9.160e+02 -1.511e+04 -5.855e+00 -2.989e+00 -8.303e+00 -6.272e+00\n",
      "1400 44 1.20487 9.018e+02 -1.505e+04 1.023e+00 5.268e+00 -1.633e+00 -5.647e-01\n",
      "1500 48 1.18930 8.902e+02 -1.503e+04 1.223e+00 3.166e+00 -1.204e+00 1.707e+00\n",
      "1600 51 1.14563 8.575e+02 -1.504e+04 -9.797e-01 3.041e+00 -3.416e+00 -2.564e+00\n",
      "1700 54 1.19553 8.949e+02 -1.509e+04 -3.979e+00 -2.320e-01 -6.617e+00 -5.088e+00\n",
      "1800 57 1.22017 9.133e+02 -1.502e+04 -1.506e+00 2.138e+00 -3.045e+00 -3.610e+00\n",
      "1900 61 1.16216 8.699e+02 -1.513e+04 -4.647e-01 3.808e+00 -3.926e+00 -1.277e+00\n",
      "2000 64 1.20381 9.011e+02 -1.510e+04 -1.978e+00 6.216e-01 -4.221e+00 -2.334e+00\n",
      "2100 67 1.22082 9.138e+02 -1.503e+04 -2.854e+00 4.509e-01 -5.540e+00 -3.473e+00\n",
      "2200 70 1.13201 8.473e+02 -1.512e+04 -3.754e+00 3.178e-01 -5.987e+00 -5.593e+00\n",
      "2300 74 1.21156 9.069e+02 -1.514e+04 1.957e-01 2.283e+00 -1.855e+00 1.596e-01\n",
      "2400 77 1.22628 9.179e+02 -1.518e+04 -3.676e+00 -8.079e-01 -4.777e+00 -5.442e+00\n",
      "2500 80 1.15148 8.619e+02 -1.517e+04 -1.506e+00 -4.969e-01 -1.492e+00 -2.528e+00\n",
      "2600 83 1.17530 8.797e+02 -1.511e+04 -4.947e+00 -2.166e+00 -7.217e+00 -5.459e+00\n",
      "2700 87 1.17730 8.812e+02 -1.515e+04 -3.247e+00 9.951e-01 -3.861e+00 -6.877e+00\n",
      "2800 90 1.14060 8.537e+02 -1.517e+04 -4.416e+00 -1.440e+00 -6.355e+00 -5.451e+00\n",
      "2900 93 1.16805 8.743e+02 -1.516e+04 -4.101e+00 6.430e-01 -6.359e+00 -6.586e+00\n",
      "3000 96 1.25724 9.410e+02 -1.518e+04 -1.559e+00 2.590e+00 -4.582e+00 -2.686e+00\n",
      "3100 100 1.18124 8.842e+02 -1.523e+04 -4.334e+00 -2.281e+00 -4.531e+00 -6.189e+00\n",
      "3200 103 1.13364 8.485e+02 -1.518e+04 -1.331e+00 2.928e+00 -3.500e+00 -3.421e+00\n",
      "3300 106 1.15327 8.632e+02 -1.517e+04 -4.739e+00 -2.383e+00 -4.929e+00 -6.906e+00\n",
      "3400 109 1.23384 9.235e+02 -1.521e+04 -2.191e+00 2.748e+00 -5.546e+00 -3.776e+00\n",
      "3500 113 1.21245 9.075e+02 -1.525e+04 -3.611e+00 7.792e-01 -4.890e+00 -6.722e+00\n",
      "3600 116 1.14967 8.605e+02 -1.524e+04 -4.905e+00 1.123e-03 -4.458e+00 -1.026e+01\n",
      "3700 119 1.25419 9.388e+02 -1.523e+04 -4.002e+00 1.296e+00 -6.718e+00 -6.585e+00\n",
      "3800 122 1.23375 9.235e+02 -1.523e+04 -5.920e+00 -2.297e+00 -8.827e+00 -6.635e+00\n",
      "3900 126 1.23228 9.224e+02 -1.530e+04 -5.414e+00 9.760e-02 -9.368e+00 -6.970e+00\n",
      "4000 129 1.19660 8.957e+02 -1.534e+04 6.565e-01 4.008e+00 -2.539e+00 5.002e-01\n",
      "4100 132 1.12081 8.389e+02 -1.524e+04 -4.592e+00 -1.173e+00 -7.257e+00 -5.348e+00\n",
      "4200 135 1.18677 8.883e+02 -1.535e+04 9.995e-01 6.270e+00 -2.462e+00 -8.099e-01\n",
      "4300 139 1.19012 8.908e+02 -1.535e+04 -9.642e-01 5.466e+00 -3.045e+00 -5.313e+00\n",
      "4400 142 1.11246 8.327e+02 -1.533e+04 -3.297e+00 -3.559e-01 -5.622e+00 -3.914e+00\n",
      "4500 145 1.24589 9.325e+02 -1.537e+04 -8.158e+00 -5.363e+00 -1.031e+01 -8.804e+00\n",
      "4600 148 1.18305 8.855e+02 -1.543e+04 -5.336e+00 -1.288e+00 -7.281e+00 -7.439e+00\n",
      "4700 151 1.13084 8.464e+02 -1.531e+04 -3.089e+00 1.507e+00 -6.131e+00 -4.644e+00\n",
      "4800 155 1.26446 9.464e+02 -1.542e+04 -3.780e-01 4.961e+00 -3.377e+00 -2.718e+00\n",
      "4900 158 1.16383 8.711e+02 -1.546e+04 -7.626e+00 -2.805e+00 -9.542e+00 -1.053e+01\n",
      "5000 161 1.15759 8.665e+02 -1.540e+04 -4.959e+00 -7.775e-01 -7.262e+00 -6.839e+00\n",
      "Done. Simulation time: 161.71 s.\n"
     ]
    }
   ],
   "source": [
    "sim_3.run()"
   ]
  },
  {
   "cell_type": "code",
   "execution_count": 16,
   "metadata": {},
   "outputs": [
    {
     "name": "stdout",
     "output_type": "stream",
     "text": [
      "Time: 0.15 s\n"
     ]
    },
    {
     "data": {
      "image/png": "[encoded data removed]",
      "text/plain": [
       "<Figure size 864x216 with 2 Axes>"
      ]
     },
     "metadata": {
      "needs_background": "light"
     },
     "output_type": "display_data"
    }
   ],
   "source": [
    "r_pr, pr_3 = compute_profile(sim_3, 0, 1, N_bins=50)\n",
    "r_rdf, rdf_3 = compute_rdf(sim_3, 1, N_bins=50)\n",
    "\n",
    "fig, ax = plt.subplots(1, 2, figsize=(12, 3))\n",
    "\n",
    "ax[0].plot(r_pr, pr_3)\n",
    "ax[0].grid(ls=\"--\")\n",
    "ax[0].set_xlim([0, L[0]])\n",
    "ax[0].set_ylim([0, 10])\n",
    "\n",
    "ax[1].plot(r_rdf, rdf_3)\n",
    "ax[1].grid(ls=\"--\")\n",
    "ax[1].set_xlim(left=0)\n",
    "ax[1].set_ylim(bottom=0);"
   ]
  },
  {
   "cell_type": "markdown",
   "metadata": {},
   "source": [
    "## $N_w$ = 4"
   ]
  },
  {
   "cell_type": "code",
   "execution_count": 17,
   "metadata": {},
   "outputs": [],
   "source": [
    "N = 500\n",
    "Nstep = 6000\n",
    "L = [10, 5, 5]\n",
    "dt = 0.005\n",
    "\n",
    "B = 2.0\n",
    "Nw = 4\n",
    "\n",
    "sim_4 = GMDPDSim(implementation=\"fortran\", N=N, L=L, dt=dt, steps=Nstep, thermo=200)\n",
    "\n",
    "sim_4.create_particle_inputs(B=B)\n",
    "sim_4.ip_N_wrap[1] = Nw"
   ]
  },
  {
   "cell_type": "code",
   "execution_count": 18,
   "metadata": {},
   "outputs": [
    {
     "name": "stdout",
     "output_type": "stream",
     "text": [
      "[[0.  0.  0.  0.  0.  0.  0.  0.  0.  0. ]\n",
      " [3.3 1.  5.5 1.4 1.7 1.9 0.2 1.8 0.2 2.2]]\n"
     ]
    },
    {
     "data": {
      "text/plain": [
       "0.98"
      ]
     },
     "execution_count": 18,
     "metadata": {},
     "output_type": "execute_result"
    }
   ],
   "source": [
    "sim_4.compute_local_density()\n",
    "print(sim_4.rho2[:10].T.round(1))\n",
    "sim_4.rho2.mean().round(2)"
   ]
  },
  {
   "cell_type": "code",
   "execution_count": 19,
   "metadata": {},
   "outputs": [
    {
     "data": {
      "text/plain": [
       "42227.45290382511"
      ]
     },
     "execution_count": 19,
     "metadata": {},
     "output_type": "execute_result"
    }
   ],
   "source": [
    "sim_4.compute_pe()"
   ]
  },
  {
   "cell_type": "code",
   "execution_count": 20,
   "metadata": {},
   "outputs": [
    {
     "name": "stdout",
     "output_type": "stream",
     "text": [
      "step time temp ke pe p pxx pyy pzz\n",
      "200 6 19.23738 1.440e+04 -1.859e+03 4.563e+01 4.454e+01 4.631e+01 4.606e+01\n",
      "400 12 4.89983 3.668e+03 -2.557e+03 7.292e+00 6.822e+00 8.803e+00 6.252e+00\n",
      "600 18 2.31598 1.734e+03 -3.302e+03 4.854e-01 -5.821e-01 1.337e+00 7.011e-01\n",
      "800 24 1.67215 1.252e+03 -4.075e+03 -6.786e-02 -5.310e-01 -1.559e-01 4.833e-01\n",
      "1000 30 1.28141 9.591e+02 -4.544e+03 -2.990e+00 -3.122e+00 -3.452e+00 -2.395e+00\n",
      "1200 36 1.14351 8.559e+02 -4.796e+03 8.166e-02 1.401e-01 3.843e-01 -2.795e-01\n",
      "1400 43 1.13840 8.521e+02 -4.981e+03 -1.403e+00 -9.241e-01 2.399e-03 -3.288e+00\n",
      "1600 49 1.09574 8.202e+02 -5.156e+03 1.305e+00 2.268e+00 2.501e-02 1.621e+00\n",
      "1800 55 1.06727 7.989e+02 -5.329e+03 3.649e-01 3.236e+00 -2.256e+00 1.157e-01\n",
      "2000 61 1.06255 7.953e+02 -5.300e+03 -9.861e-01 -1.405e+00 -1.490e+00 -6.284e-02\n",
      "2200 68 0.95175 7.124e+02 -5.298e+03 -4.689e-01 1.096e+00 -2.182e+00 -3.204e-01\n",
      "2400 74 1.05734 7.914e+02 -5.414e+03 2.944e-01 6.035e-01 -5.632e-02 3.361e-01\n",
      "2600 81 1.04830 7.847e+02 -5.300e+03 1.526e-01 -1.142e-01 1.092e+00 -5.197e-01\n",
      "2800 87 1.04730 7.839e+02 -5.323e+03 -4.934e-01 -1.054e+00 -2.248e-02 -4.038e-01\n",
      "3000 93 1.04121 7.793e+02 -5.400e+03 -2.202e-01 4.064e-01 1.030e-01 -1.170e+00\n",
      "3200 100 0.98535 7.375e+02 -5.357e+03 3.935e-01 1.048e+00 1.060e+00 -9.282e-01\n",
      "3400 106 1.07167 8.021e+02 -5.438e+03 -4.722e-01 2.129e-01 -1.207e+00 -4.226e-01\n",
      "3600 112 0.99249 7.429e+02 -5.390e+03 -3.056e-01 1.336e+00 -1.216e+00 -1.037e+00\n",
      "3800 119 0.99512 7.448e+02 -5.326e+03 -8.708e-01 -1.398e-01 -9.358e-01 -1.537e+00\n",
      "4000 125 1.01232 7.577e+02 -5.359e+03 -4.131e-01 -2.143e-01 -7.158e-02 -9.534e-01\n",
      "4200 131 1.00092 7.492e+02 -5.417e+03 2.957e-01 -9.228e-01 -6.513e-01 2.461e+00\n",
      "4400 138 1.01381 7.588e+02 -5.410e+03 2.832e-01 1.708e+00 2.451e-02 -8.827e-01\n",
      "4600 144 1.12024 8.385e+02 -5.376e+03 2.609e-01 7.443e-01 2.578e-01 -2.194e-01\n",
      "4800 150 1.08493 8.121e+02 -5.370e+03 1.315e+00 1.101e+00 2.006e+00 8.376e-01\n",
      "5000 157 1.04033 7.787e+02 -5.313e+03 -1.821e+00 -1.816e+00 -2.327e+00 -1.321e+00\n",
      "5200 163 0.96487 7.222e+02 -5.377e+03 -1.066e+00 7.545e-01 -1.809e+00 -2.144e+00\n",
      "5400 169 1.04085 7.791e+02 -5.375e+03 -2.423e+00 -2.104e+00 -3.130e+00 -2.035e+00\n",
      "5600 176 1.03731 7.764e+02 -5.300e+03 2.328e-01 2.021e+00 -6.671e-01 -6.556e-01\n",
      "5800 182 0.95448 7.144e+02 -5.342e+03 -2.363e+00 -1.203e+00 -2.731e+00 -3.156e+00\n",
      "6000 188 1.03884 7.776e+02 -5.410e+03 1.459e-01 2.041e+00 -1.845e+00 2.419e-01\n",
      "Done. Simulation time: 188.86 s.\n"
     ]
    }
   ],
   "source": [
    "sim_4.run()"
   ]
  },
  {
   "cell_type": "code",
   "execution_count": 21,
   "metadata": {},
   "outputs": [
    {
     "data": {
      "text/plain": [
       "0.61"
      ]
     },
     "execution_count": 21,
     "metadata": {},
     "output_type": "execute_result"
    }
   ],
   "source": [
    "sim_4.rho2.mean().round(2)"
   ]
  },
  {
   "cell_type": "code",
   "execution_count": 22,
   "metadata": {},
   "outputs": [
    {
     "name": "stdout",
     "output_type": "stream",
     "text": [
      "Time: 0.15 s\n"
     ]
    },
    {
     "data": {
      "image/png": "[encoded data removed]",
      "text/plain": [
       "<Figure size 864x216 with 2 Axes>"
      ]
     },
     "metadata": {
      "needs_background": "light"
     },
     "output_type": "display_data"
    }
   ],
   "source": [
    "r_pr, pr_4 = compute_profile(sim_4, 0, 1, N_bins=50)\n",
    "r_rdf, rdf_4 = compute_rdf(sim_4, 1, N_bins=50)\n",
    "\n",
    "fig, ax = plt.subplots(1, 2, figsize=(12, 3))\n",
    "\n",
    "ax[0].plot(r_pr, pr_4)\n",
    "ax[0].grid(ls=\"--\")\n",
    "ax[0].set_xlim([0, L[0]])\n",
    "ax[0].set_ylim([0, 8])\n",
    "\n",
    "ax[1].plot(r_rdf, rdf_4)\n",
    "ax[1].grid(ls=\"--\")\n",
    "ax[1].set_xlim(left=0)\n",
    "ax[1].set_ylim(bottom=0);"
   ]
  },
  {
   "cell_type": "markdown",
   "metadata": {},
   "source": [
    "## $N_w=5$"
   ]
  },
  {
   "cell_type": "code",
   "execution_count": 23,
   "metadata": {},
   "outputs": [],
   "source": [
    "N = 500\n",
    "Nstep = 6000\n",
    "L = [10, 5, 5]\n",
    "dt = 5e-3\n",
    "\n",
    "B = 2.0\n",
    "Nw = 5\n",
    "\n",
    "sim_5 = GMDPDSim(implementation=\"fortran\", N=N, L=L, dt=dt, \\\n",
    "                 steps=Nstep, thermo=50)\n",
    "\n",
    "sim_5.create_particle_inputs(B=B)\n",
    "sim_5.ip_N_wrap[1] = Nw\n",
    "\n",
    "X0 = sim_5.X.copy()"
   ]
  },
  {
   "cell_type": "code",
   "execution_count": 24,
   "metadata": {},
   "outputs": [
    {
     "data": {
      "text/plain": [
       "8.22"
      ]
     },
     "execution_count": 24,
     "metadata": {},
     "output_type": "execute_result"
    }
   ],
   "source": [
    "sim_5.compute_local_density()\n",
    "sim_5.rho2.T.max().round(2)"
   ]
  },
  {
   "cell_type": "code",
   "execution_count": 25,
   "metadata": {},
   "outputs": [
    {
     "data": {
      "text/plain": [
       "223389.3418369877"
      ]
     },
     "execution_count": 25,
     "metadata": {},
     "output_type": "execute_result"
    }
   ],
   "source": [
    "sim_5.compute_pe()"
   ]
  },
  {
   "cell_type": "code",
   "execution_count": 26,
   "metadata": {
    "scrolled": true
   },
   "outputs": [
    {
     "name": "stdout",
     "output_type": "stream",
     "text": [
      "Minimising... Initial PE: 2.234e+05\n",
      "step time pe\n",
      "10 2 6.236e+04\n",
      "20 4 3.777e+04\n",
      "30 6 2.715e+04\n",
      "40 8 2.108e+04\n",
      "50 10 1.711e+04\n",
      "Done. Time: 10.99 s\n"
     ]
    }
   ],
   "source": [
    "sim_5.minimise(Nit=50, w=1e-7)"
   ]
  },
  {
   "cell_type": "code",
   "execution_count": 27,
   "metadata": {
    "scrolled": false
   },
   "outputs": [
    {
     "name": "stdout",
     "output_type": "stream",
     "text": [
      "step time temp ke pe p pxx pyy pzz\n",
      " 50 1 14.85801 1.112e+04 -2.048e+03 4.063e+01 4.059e+01 4.164e+01 3.968e+01\n",
      "100 3 10.61085 7.942e+03 -2.376e+03 2.277e+01 2.259e+01 2.233e+01 2.337e+01\n",
      "150 4 7.62018 5.704e+03 -2.522e+03 1.574e+01 1.837e+01 1.638e+01 1.246e+01\n",
      "200 6 5.44528 4.076e+03 -2.633e+03 8.548e+00 8.326e+00 9.535e+00 7.784e+00\n",
      "250 7 4.14208 3.100e+03 -2.759e+03 5.497e+00 6.486e+00 4.495e+00 5.512e+00\n",
      "300 9 3.30208 2.472e+03 -2.893e+03 5.999e+00 6.088e+00 6.021e+00 5.889e+00\n",
      "350 10 2.71677 2.034e+03 -2.999e+03 8.822e-01 1.416e+00 -2.501e-01 1.481e+00\n",
      "400 12 2.30483 1.725e+03 -3.190e+03 1.065e+00 3.778e-01 1.552e+00 1.266e+00\n",
      "450 14 2.01213 1.506e+03 -3.369e+03 -1.745e+00 -1.691e+00 -3.038e+00 -5.053e-01\n",
      "500 15 1.79312 1.342e+03 -3.533e+03 -1.182e+00 -1.048e+00 -1.013e+00 -1.485e+00\n",
      "550 17 1.71737 1.285e+03 -3.793e+03 -1.614e-01 1.698e-01 3.019e-01 -9.559e-01\n",
      "600 18 1.51387 1.133e+03 -3.890e+03 -3.019e+00 -2.953e+00 -2.909e+00 -3.195e+00\n",
      "650 20 1.45016 1.085e+03 -4.069e+03 -1.161e+00 -2.213e-01 -1.918e+00 -1.342e+00\n",
      "700 21 1.37221 1.027e+03 -4.159e+03 -4.569e-01 2.248e-01 -1.281e+00 -3.142e-01\n",
      "750 23 1.31644 9.854e+02 -4.258e+03 -1.175e+00 -1.151e+00 -3.552e-01 -2.019e+00\n",
      "800 24 1.25570 9.399e+02 -4.340e+03 -1.351e+00 -7.478e-01 -2.284e+00 -1.021e+00\n",
      "850 26 1.17792 8.817e+02 -4.391e+03 -2.314e+00 -1.856e+00 -2.736e+00 -2.349e+00\n",
      "900 28 1.23707 9.260e+02 -4.509e+03 -9.460e-01 -1.191e-01 -1.375e+00 -1.344e+00\n",
      "950 29 1.16935 8.753e+02 -4.532e+03 -2.376e+00 -1.824e+00 -3.002e+00 -2.303e+00\n",
      "1000 31 1.15069 8.613e+02 -4.546e+03 -2.355e+00 -2.104e+00 -2.886e+00 -2.074e+00\n",
      "1050 32 1.16709 8.736e+02 -4.634e+03 -8.416e-01 9.623e-02 -1.022e+00 -1.599e+00\n",
      "1100 34 1.12263 8.403e+02 -4.607e+03 -3.754e+00 -4.340e+00 -3.427e+00 -3.494e+00\n",
      "1150 35 1.01576 7.603e+02 -4.580e+03 -1.411e+00 -9.213e-01 -1.992e+00 -1.319e+00\n",
      "1200 37 1.04249 7.803e+02 -4.633e+03 2.214e-01 5.274e-01 -7.013e-01 8.382e-01\n",
      "1250 39 1.11285 8.330e+02 -4.676e+03 1.208e+00 1.244e+00 1.623e+00 7.560e-01\n",
      "1300 40 1.08487 8.120e+02 -4.711e+03 -3.226e-01 1.343e+00 -1.516e+00 -7.949e-01\n",
      "1350 42 1.09864 8.223e+02 -4.723e+03 9.347e-01 2.738e+00 4.879e-01 -4.216e-01\n",
      "1400 43 1.05632 7.907e+02 -4.710e+03 -1.654e+00 -1.006e+00 -1.039e+00 -2.916e+00\n",
      "1450 45 1.07362 8.036e+02 -4.729e+03 -8.200e-01 3.030e-01 -2.397e+00 -3.662e-01\n",
      "1500 46 1.02561 7.677e+02 -4.742e+03 -2.260e+00 -1.543e+00 -3.772e+00 -1.463e+00\n",
      "1550 48 1.05188 7.873e+02 -4.802e+03 -2.672e+00 -1.859e+00 -3.166e+00 -2.991e+00\n",
      "1600 49 1.03152 7.721e+02 -4.841e+03 9.808e-02 4.766e-01 -2.208e-01 3.839e-02\n",
      "1650 51 0.96863 7.250e+02 -4.820e+03 -2.981e+00 -1.881e+00 -3.441e+00 -3.623e+00\n",
      "1700 53 1.00963 7.557e+02 -4.811e+03 2.389e-02 5.026e-01 -3.786e-01 -5.239e-02\n",
      "1750 54 1.00482 7.521e+02 -4.798e+03 -4.329e-01 -9.706e-02 -1.113e+00 -8.884e-02\n",
      "1800 56 1.02685 7.686e+02 -4.819e+03 -1.696e+00 -2.334e+00 -1.336e+00 -1.418e+00\n",
      "1850 57 1.05980 7.933e+02 -4.823e+03 -2.134e+00 -1.103e+00 -2.614e+00 -2.686e+00\n",
      "1900 59 1.04914 7.853e+02 -4.832e+03 -2.065e+00 -1.005e+00 -2.990e+00 -2.200e+00\n",
      "1950 61 1.07479 8.045e+02 -4.825e+03 -3.316e+00 -2.239e+00 -2.584e+00 -5.124e+00\n",
      "2000 62 1.08924 8.153e+02 -4.859e+03 1.252e+00 1.431e+00 1.476e+00 8.476e-01\n",
      "2050 64 1.06847 7.998e+02 -4.851e+03 -4.994e-01 -7.203e-02 -1.940e+00 5.141e-01\n",
      "2100 65 1.06776 7.992e+02 -4.844e+03 9.999e-01 1.151e+00 9.042e-01 9.439e-01\n",
      "2150 67 1.13160 8.470e+02 -4.912e+03 -2.554e+00 -1.304e+00 -3.701e+00 -2.656e+00\n",
      "2200 69 1.09181 8.172e+02 -4.865e+03 1.080e+00 1.038e+00 2.147e+00 5.515e-02\n",
      "2250 70 1.09782 8.217e+02 -4.899e+03 -6.453e-01 -1.978e+00 -6.372e-01 6.794e-01\n",
      "2300 72 1.11959 8.380e+02 -4.965e+03 1.875e+00 1.548e+00 2.741e+00 1.336e+00\n",
      "2350 73 1.12364 8.410e+02 -4.976e+03 -9.254e-01 -1.366e+00 -9.279e-01 -4.827e-01\n",
      "2400 75 1.11525 8.348e+02 -5.033e+03 -1.360e+00 -5.580e-01 -7.765e-01 -2.745e+00\n",
      "2450 77 1.15481 8.644e+02 -5.080e+03 6.964e-01 2.182e+00 -1.376e-01 4.536e-02\n",
      "2500 78 1.18800 8.892e+02 -5.126e+03 1.542e+00 3.186e+00 -6.885e-02 1.508e+00\n",
      "2550 80 1.14554 8.574e+02 -5.184e+03 -1.425e+00 6.361e-02 -2.163e+00 -2.176e+00\n",
      "2600 81 1.00778 7.543e+02 -5.170e+03 -3.105e+00 -2.157e+00 -3.800e+00 -3.359e+00\n",
      "2650 83 1.13049 8.462e+02 -5.263e+03 2.152e+00 3.805e+00 8.774e-01 1.775e+00\n",
      "2700 85 1.12674 8.434e+02 -5.268e+03 -6.387e-01 2.905e-01 -1.177e+00 -1.029e+00\n",
      "2750 86 1.09602 8.204e+02 -5.214e+03 1.223e+00 1.759e+00 6.504e-01 1.258e+00\n",
      "2800 88 1.06487 7.971e+02 -5.264e+03 -1.472e+00 -1.211e+00 -2.026e+00 -1.180e+00\n",
      "2850 90 1.05112 7.868e+02 -5.276e+03 -1.704e+00 -8.198e-01 -2.142e+00 -2.150e+00\n",
      "2900 91 1.01332 7.585e+02 -5.304e+03 -1.436e+00 -6.754e-01 -1.375e+00 -2.258e+00\n",
      "2950 93 1.05967 7.932e+02 -5.309e+03 -1.132e+00 -3.683e-01 -1.962e+00 -1.067e+00\n",
      "3000 95 1.01847 7.623e+02 -5.300e+03 -2.796e+00 -3.429e+00 -2.723e+00 -2.235e+00\n",
      "3050 96 1.08597 8.128e+02 -5.374e+03 1.982e+00 3.168e+00 2.599e+00 1.783e-01\n",
      "3100 98 1.10725 8.288e+02 -5.409e+03 5.491e-01 3.216e-01 3.670e-01 9.586e-01\n",
      "3150 99 1.00743 7.541e+02 -5.357e+03 -2.091e+00 -2.647e+00 -1.971e+00 -1.656e+00\n",
      "3200 101 1.00716 7.539e+02 -5.374e+03 -1.234e+00 -1.088e+00 -1.200e+00 -1.412e+00\n",
      "3250 103 1.02323 7.659e+02 -5.407e+03 -1.692e+00 -2.627e-02 -3.650e+00 -1.401e+00\n",
      "3300 104 0.93992 7.035e+02 -5.374e+03 2.374e-01 1.562e+00 -1.700e+00 8.504e-01\n",
      "3350 106 0.99385 7.439e+02 -5.360e+03 -2.625e+00 -2.495e+00 -1.790e+00 -3.590e+00\n",
      "3400 108 1.06640 7.982e+02 -5.360e+03 -1.607e+00 -1.040e+00 -5.819e-01 -3.199e+00\n",
      "3450 109 0.97346 7.286e+02 -5.304e+03 8.240e-01 1.630e+00 -5.339e-01 1.376e+00\n",
      "3500 111 1.01893 7.627e+02 -5.381e+03 -4.304e-01 3.867e-01 -1.247e+00 -4.303e-01\n",
      "3550 112 1.00135 7.495e+02 -5.390e+03 -1.057e+00 3.543e-01 -8.257e-01 -2.699e+00\n",
      "3600 114 1.03841 7.772e+02 -5.373e+03 -4.936e-01 -1.240e+00 -6.031e-02 -1.806e-01\n",
      "3650 116 1.02820 7.696e+02 -5.373e+03 2.780e-01 1.404e+00 -1.256e+00 6.860e-01\n",
      "3700 117 1.00787 7.544e+02 -5.348e+03 -1.323e+00 -5.797e-01 -1.588e+00 -1.801e+00\n",
      "3750 119 1.02059 7.639e+02 -5.377e+03 -1.867e+00 -1.347e+00 -2.150e+00 -2.104e+00\n",
      "3800 121 0.97543 7.301e+02 -5.399e+03 2.162e+00 2.065e+00 2.188e+00 2.232e+00\n",
      "3850 122 0.97047 7.264e+02 -5.423e+03 -5.667e-01 3.941e-01 -1.391e+00 -7.028e-01\n",
      "3900 124 0.93149 6.972e+02 -5.435e+03 1.056e+00 1.753e+00 1.080e+00 3.340e-01\n",
      "3950 126 0.94236 7.054e+02 -5.417e+03 1.909e+00 2.465e+00 2.158e+00 1.104e+00\n",
      "4000 127 0.96736 7.241e+02 -5.431e+03 -2.074e+00 -1.172e+00 -2.704e+00 -2.345e+00\n",
      "4050 129 0.94760 7.093e+02 -5.416e+03 -1.090e+00 -3.126e-01 -1.004e+00 -1.954e+00\n",
      "4100 130 0.94689 7.087e+02 -5.389e+03 -1.291e+00 1.619e-01 -1.810e+00 -2.224e+00\n",
      "4150 132 0.98488 7.372e+02 -5.408e+03 1.075e+00 2.063e+00 3.734e-01 7.903e-01\n",
      "4200 134 1.05462 7.894e+02 -5.381e+03 -3.546e+00 -2.485e+00 -3.076e+00 -5.078e+00\n",
      "4250 135 1.02888 7.701e+02 -5.345e+03 -1.124e+00 9.339e-01 -2.217e+00 -2.090e+00\n",
      "4300 137 1.05964 7.931e+02 -5.370e+03 -5.890e-01 -2.114e-01 -9.675e-01 -5.879e-01\n",
      "4350 139 0.97464 7.295e+02 -5.336e+03 -9.383e-01 5.168e-01 -1.252e+00 -2.080e+00\n",
      "4400 140 1.04522 7.824e+02 -5.398e+03 2.067e+00 3.859e+00 1.788e+00 5.539e-01\n",
      "4450 142 1.00675 7.535e+02 -5.351e+03 -1.574e+00 -1.256e+00 -1.892e+00 -1.575e+00\n",
      "4500 144 0.96438 7.218e+02 -5.321e+03 -1.393e+00 -8.557e-01 -2.150e+00 -1.172e+00\n",
      "4550 145 1.01115 7.568e+02 -5.348e+03 1.304e+00 4.132e-01 2.384e+00 1.113e+00\n",
      "4600 147 1.02824 7.696e+02 -5.347e+03 -6.433e-01 3.237e-01 -7.124e-01 -1.541e+00\n",
      "4650 148 1.05569 7.902e+02 -5.359e+03 -2.041e+00 -1.390e+00 -1.877e+00 -2.856e+00\n",
      "4700 150 0.97450 7.294e+02 -5.304e+03 -2.226e+00 -1.343e+00 -3.310e+00 -2.025e+00\n",
      "4750 152 0.99657 7.459e+02 -5.349e+03 5.485e-01 1.231e+00 9.336e-01 -5.195e-01\n",
      "4800 153 1.05329 7.884e+02 -5.430e+03 3.473e-01 9.325e-01 -9.677e-02 2.061e-01\n",
      "4850 155 0.94474 7.071e+02 -5.369e+03 -2.275e+00 -9.309e-01 -2.813e+00 -3.080e+00\n",
      "4900 157 0.97559 7.302e+02 -5.348e+03 1.793e+00 2.150e+00 8.720e-01 2.356e+00\n",
      "4950 158 0.98758 7.392e+02 -5.375e+03 1.341e+00 2.033e+00 1.600e+00 3.907e-01\n",
      "5000 160 0.98876 7.401e+02 -5.393e+03 -1.566e+00 -1.687e+00 -1.919e+00 -1.090e+00\n",
      "5050 162 1.04228 7.801e+02 -5.383e+03 2.354e+00 2.148e+00 2.098e+00 2.816e+00\n",
      "5100 163 1.02891 7.701e+02 -5.378e+03 -1.026e+00 -1.185e+00 -1.545e+00 -3.475e-01\n",
      "5150 165 0.99900 7.477e+02 -5.374e+03 4.436e-01 3.762e-01 -3.750e-01 1.329e+00\n"
     ]
    },
    {
     "name": "stdout",
     "output_type": "stream",
     "text": [
      "5200 166 0.99690 7.462e+02 -5.409e+03 4.518e-01 1.892e+00 -3.859e-01 -1.507e-01\n",
      "5250 168 0.93182 6.975e+02 -5.374e+03 1.489e+00 3.913e+00 -9.384e-01 1.494e+00\n",
      "5300 170 1.02586 7.679e+02 -5.397e+03 -2.688e+00 -2.290e+00 -3.075e+00 -2.699e+00\n",
      "5350 171 0.98908 7.403e+02 -5.362e+03 5.554e-01 7.024e-01 4.794e-01 4.844e-01\n",
      "5400 173 0.96441 7.219e+02 -5.358e+03 -1.473e+00 -2.941e-01 -1.771e+00 -2.354e+00\n",
      "5450 174 0.97784 7.319e+02 -5.295e+03 -1.584e+00 3.036e-02 -2.833e+00 -1.949e+00\n",
      "5500 176 1.00902 7.552e+02 -5.363e+03 -3.746e-01 6.023e-02 -1.278e+00 9.425e-02\n",
      "5550 178 1.01668 7.610e+02 -5.345e+03 4.740e-02 1.115e+00 -1.246e-01 -8.483e-01\n",
      "5600 179 1.04463 7.819e+02 -5.364e+03 -1.425e+00 -4.469e-01 -1.204e+00 -2.625e+00\n",
      "5650 181 0.99169 7.423e+02 -5.376e+03 -2.935e+00 -2.631e+00 -2.602e+00 -3.573e+00\n",
      "5700 183 1.03205 7.725e+02 -5.378e+03 1.493e+00 1.718e+00 2.069e+00 6.929e-01\n",
      "5750 184 1.02867 7.700e+02 -5.347e+03 -2.694e+00 -3.197e+00 -2.169e+00 -2.717e+00\n",
      "5800 186 1.00767 7.542e+02 -5.340e+03 -7.221e-01 1.071e+00 -1.323e+00 -1.914e+00\n",
      "5850 187 1.11440 8.341e+02 -5.352e+03 3.967e-01 1.414e-03 6.275e-01 5.612e-01\n",
      "5900 189 0.95096 7.118e+02 -5.358e+03 -6.986e-01 -2.009e-01 -1.614e+00 -2.809e-01\n",
      "5950 191 1.02560 7.677e+02 -5.384e+03 -1.240e+00 -2.011e-01 -1.378e+00 -2.142e+00\n",
      "6000 192 1.01862 7.624e+02 -5.385e+03 -4.303e-01 -5.214e-01 -1.793e-01 -5.904e-01\n",
      "Done. Simulation time: 192.79 s.\n"
     ]
    }
   ],
   "source": [
    "sim_5.run()"
   ]
  },
  {
   "cell_type": "code",
   "execution_count": 28,
   "metadata": {},
   "outputs": [
    {
     "name": "stdout",
     "output_type": "stream",
     "text": [
      "Time: 0.14 s\n"
     ]
    },
    {
     "data": {
      "image/png": "[encoded data removed]",
      "text/plain": [
       "<Figure size 864x216 with 2 Axes>"
      ]
     },
     "metadata": {
      "needs_background": "light"
     },
     "output_type": "display_data"
    }
   ],
   "source": [
    "r_pr, pr_5 = compute_profile(sim_5, 0, 1, N_bins=50)\n",
    "r_rdf, rdf_5 = compute_rdf(sim_5, 1, N_bins=50)\n",
    "\n",
    "fig, ax = plt.subplots(1, 2, figsize=(12, 3))\n",
    "\n",
    "ax[0].plot(r_pr, pr_5)\n",
    "ax[0].grid(ls=\"--\")\n",
    "ax[0].set_xlim([0, L[0]])\n",
    "ax[0].set_ylim([0, 8])\n",
    "\n",
    "ax[1].plot(r_rdf, rdf_5)\n",
    "ax[1].grid(ls=\"--\")\n",
    "ax[1].set_xlim(left=0)\n",
    "ax[1].set_ylim(bottom=0);"
   ]
  },
  {
   "cell_type": "code",
   "execution_count": null,
   "metadata": {},
   "outputs": [],
   "source": []
  },
  {
   "cell_type": "code",
   "execution_count": null,
   "metadata": {},
   "outputs": [],
   "source": []
  }
 ],
 "metadata": {
  "kernelspec": {
   "display_name": "Python 3",
   "language": "python",
   "name": "python3"
  },
  "language_info": {
   "codemirror_mode": {
    "name": "ipython",
    "version": 3
   },
   "file_extension": ".py",
   "mimetype": "text/x-python",
   "name": "python",
   "nbconvert_exporter": "python",
   "pygments_lexer": "ipython3",
   "version": "3.7.3"
  }
 },
 "nbformat": 4,
 "nbformat_minor": 2
}
